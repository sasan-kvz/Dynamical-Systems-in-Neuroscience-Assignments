{
 "cells": [
  {
   "cell_type": "code",
   "execution_count": 2,
   "id": "a3976e0f",
   "metadata": {},
   "outputs": [
    {
     "data": {
      "image/png": "[encoded data removed]",
      "text/plain": [
       "<Figure size 432x288 with 1 Axes>"
      ]
     },
     "metadata": {
      "needs_background": "light"
     },
     "output_type": "display_data"
    }
   ],
   "source": [
    "# DSN Project\n",
    "# Action potential shapes obtained using the original & integro-differential of the FitzHugh-Nagumo model\n",
    "\n",
    "\n",
    "from __future__ import division\n",
    "import matplotlib.pyplot as plt\n",
    "import numpy as np\n",
    "import scipy.integrate as spi\n",
    "\n",
    "N = 200\n",
    "\n",
    "t0 = 0.0\n",
    "tf = 2.0\n",
    "\n",
    "t = np.linspace(t0, tf, N)\n",
    "\n",
    "h = t[1] - t[0]\n",
    "\n",
    "v = [None] * N\n",
    "\n",
    "# FHN original\n",
    "vorig = [None] * N\n",
    "w = [None] * N\n",
    "\n",
    "v[0] = 0.2\n",
    "\n",
    "# FHN original\n",
    "vorig[0] = 0.2\n",
    "w[0] = 0.0\n",
    "\n",
    "x = 0\n",
    "\n",
    "def I(i):\n",
    "    if t[i] < 0.02:\n",
    "        return 0.0\n",
    "    else:\n",
    "        return 0.0\n",
    "\n",
    "integrandoW = lambda i, s : np.exp(-(t[i] - t[s]) / 2) * v[s]\n",
    "\n",
    "def integralW(i):\n",
    "    somatorio = 0\n",
    "    for j in range(1, i):\n",
    "        parcela = ( integrandoW(i, j-1) + integrandoW(i, j) ) * h / 2\n",
    "        somatorio = somatorio + parcela\n",
    "    return somatorio\n",
    "\n",
    "dvdt = lambda i : 100 * v[i] * (v[i] - 0.1) * (1 - v[i]) + 100 * I(i) - 100 * integralW(i)\n",
    "\n",
    "# FHN original\n",
    "dvdtOrig = lambda i : ( vorig[i] * (vorig[i] - 0.1) * (1 - vorig[i]) - w[i] + I(i) ) / 0.01\n",
    "dwdtOrig = lambda i : vorig[i] - 0.5 * w[i]\n",
    "\n",
    "for i in range(1, N):\n",
    "    v[i] = v[i - 1] + h * dvdt(i - 1)\n",
    "    # FHN original\n",
    "    vorig[i] = vorig[i - 1] + h * dvdtOrig(i - 1)\n",
    "    w[i] = w[i - 1] + h * dwdtOrig(i - 1)\n",
    "\n",
    "plt.plot(t, v, label='Integro-Differential')\n",
    "plt.plot(t, vorig, 'r-', label='FHN original')\n",
    "plt.legend()\n",
    "leg = plt.legend(loc =\"upper right\", borderpad=0.001);\n",
    "plt.plot(t, v, 'b-', t, vorig, 'r-')\n",
    "plt.xlabel('t')\n",
    "plt.ylabel('v')\n",
    "plt.show()\n",
    "\n",
    "\n",
    "# In[ ]:\n",
    "\n",
    "\n",
    "\n",
    "\n"
   ]
  },
  {
   "cell_type": "code",
   "execution_count": null,
   "id": "a997b269",
   "metadata": {},
   "outputs": [],
   "source": []
  }
 ],
 "metadata": {
  "kernelspec": {
   "display_name": "Python 3 (ipykernel)",
   "language": "python",
   "name": "python3"
  },
  "language_info": {
   "codemirror_mode": {
    "name": "ipython",
    "version": 3
   },
   "file_extension": ".py",
   "mimetype": "text/x-python",
   "name": "python",
   "nbconvert_exporter": "python",
   "pygments_lexer": "ipython3",
   "version": "3.9.6"
  }
 },
 "nbformat": 4,
 "nbformat_minor": 5
}
